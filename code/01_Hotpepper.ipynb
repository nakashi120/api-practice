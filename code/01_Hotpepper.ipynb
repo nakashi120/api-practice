{
 "cells": [
  {
   "cell_type": "code",
   "execution_count": 33,
   "metadata": {},
   "outputs": [],
   "source": [
    "import requests"
   ]
  },
  {
   "cell_type": "code",
   "execution_count": 34,
   "metadata": {},
   "outputs": [],
   "source": [
    "from api_key import hotpepper_api_key"
   ]
  },
  {
   "cell_type": "code",
   "execution_count": 35,
   "metadata": {},
   "outputs": [],
   "source": [
    "URL = 'http://webservice.recruit.co.jp/hotpepper/gourmet/v1/'"
   ]
  },
  {
   "cell_type": "code",
   "execution_count": 15,
   "metadata": {},
   "outputs": [],
   "source": [
    "params = {\n",
    "    'key': hotpepper_api_key.API_KEY,\n",
    "    'keyword': '沖縄',\n",
    "    'format': 'json',\n",
    "    'count': 100\n",
    "}"
   ]
  },
  {
   "cell_type": "code",
   "execution_count": 16,
   "metadata": {},
   "outputs": [],
   "source": [
    "res = requests.get(URL, params)"
   ]
  },
  {
   "cell_type": "code",
   "execution_count": 17,
   "metadata": {},
   "outputs": [],
   "source": [
    "result = res.json()"
   ]
  },
  {
   "cell_type": "code",
   "execution_count": 18,
   "metadata": {},
   "outputs": [],
   "source": [
    "items = result['results']['shop']"
   ]
  },
  {
   "cell_type": "code",
   "execution_count": 19,
   "metadata": {},
   "outputs": [
    {
     "data": {
      "text/plain": [
       "100"
      ]
     },
     "execution_count": 19,
     "metadata": {},
     "output_type": "execute_result"
    }
   ],
   "source": [
    "len(items)"
   ]
  },
  {
   "cell_type": "code",
   "execution_count": 20,
   "metadata": {},
   "outputs": [],
   "source": [
    "# pandasで見えやすくする\n",
    "import pandas as pd"
   ]
  },
  {
   "cell_type": "code",
   "execution_count": 24,
   "metadata": {},
   "outputs": [],
   "source": [
    "df = pd.DataFrame(items)"
   ]
  },
  {
   "cell_type": "code",
   "execution_count": 26,
   "metadata": {},
   "outputs": [
    {
     "data": {
      "text/html": [
       "<div>\n",
       "<style scoped>\n",
       "    .dataframe tbody tr th:only-of-type {\n",
       "        vertical-align: middle;\n",
       "    }\n",
       "\n",
       "    .dataframe tbody tr th {\n",
       "        vertical-align: top;\n",
       "    }\n",
       "\n",
       "    .dataframe thead th {\n",
       "        text-align: right;\n",
       "    }\n",
       "</style>\n",
       "<table border=\"1\" class=\"dataframe\">\n",
       "  <thead>\n",
       "    <tr style=\"text-align: right;\">\n",
       "      <th></th>\n",
       "      <th>access</th>\n",
       "      <th>address</th>\n",
       "      <th>band</th>\n",
       "      <th>barrier_free</th>\n",
       "      <th>budget</th>\n",
       "      <th>budget_memo</th>\n",
       "      <th>capacity</th>\n",
       "      <th>card</th>\n",
       "      <th>catch</th>\n",
       "      <th>charter</th>\n",
       "      <th>...</th>\n",
       "      <th>shop_detail_memo</th>\n",
       "      <th>show</th>\n",
       "      <th>small_area</th>\n",
       "      <th>station_name</th>\n",
       "      <th>sub_genre</th>\n",
       "      <th>tatami</th>\n",
       "      <th>tv</th>\n",
       "      <th>urls</th>\n",
       "      <th>wedding</th>\n",
       "      <th>wifi</th>\n",
       "    </tr>\n",
       "  </thead>\n",
       "  <tbody>\n",
       "    <tr>\n",
       "      <th>0</th>\n",
       "      <td>【国際通り松尾バス停目の前】ビル1Fにココカラファイン/沖縄モノレール美栄橋駅・県庁前駅徒歩...</td>\n",
       "      <td>沖縄県那覇市牧志１-2-1　花ビル3F</td>\n",
       "      <td>可</td>\n",
       "      <td>あり ：お手伝いできることがありましたらお声掛けください</td>\n",
       "      <td>{'average': '2000円～4000円', 'code': 'B002', 'na...</td>\n",
       "      <td>テーブル・ライブチャージ （お通し付き）1000円</td>\n",
       "      <td>100</td>\n",
       "      <td>利用可</td>\n",
       "      <td>毎日開催！島唄ライブ♪ こだわりの島酒と沖縄料理</td>\n",
       "      <td>貸切可 ：貸切可：最大100名！</td>\n",
       "      <td>...</td>\n",
       "      <td>三線ライブ♪♪普段使いはもちろん、女子会や誕生日にも最適！</td>\n",
       "      <td>あり</td>\n",
       "      <td>{'code': 'X114', 'name': '国際通り'}</td>\n",
       "      <td>牧志</td>\n",
       "      <td>{'code': 'G004', 'name': '和食'}</td>\n",
       "      <td>なし ：座敷はありません</td>\n",
       "      <td>なし</td>\n",
       "      <td>{'pc': 'https://www.hotpepper.jp/strJ001246993...</td>\n",
       "      <td>大歓迎★サプライズもお任せ！大切な方に歌のプレゼントもできますよ♪</td>\n",
       "      <td>あり</td>\n",
       "    </tr>\n",
       "    <tr>\n",
       "      <th>1</th>\n",
       "      <td>西武池袋線練馬駅徒歩3分／地下鉄都営大江戸線練馬駅徒歩3分</td>\n",
       "      <td>東京都練馬区豊玉北５‐２１‐１ ポニー豊玉ビル１Ｆ</td>\n",
       "      <td>不可</td>\n",
       "      <td>なし</td>\n",
       "      <td>{'average': '2800円(通常平均) 3000円(宴会平均) ', 'code'...</td>\n",
       "      <td>席料150円</td>\n",
       "      <td>40</td>\n",
       "      <td>利用可</td>\n",
       "      <td>沖縄料理 オリオン生ビール</td>\n",
       "      <td>貸切可 ：貸切大歓迎☆</td>\n",
       "      <td>...</td>\n",
       "      <td></td>\n",
       "      <td>なし</td>\n",
       "      <td>{'code': 'X631', 'name': '練馬'}</td>\n",
       "      <td>練馬</td>\n",
       "      <td>{'code': 'G001', 'name': '居酒屋'}</td>\n",
       "      <td>あり ：6名席×2、4名席×3</td>\n",
       "      <td>あり</td>\n",
       "      <td>{'pc': 'https://www.hotpepper.jp/strJ000150893...</td>\n",
       "      <td>承ります！お気軽にご相談ください。</td>\n",
       "      <td>未確認</td>\n",
       "    </tr>\n",
       "    <tr>\n",
       "      <th>2</th>\n",
       "      <td>モノレール県庁前駅より徒歩3分、久茂地川沿いからすぐ</td>\n",
       "      <td>沖縄県那覇市久茂地２－６－１　コーポカミハマビル１F</td>\n",
       "      <td>不可</td>\n",
       "      <td>なし</td>\n",
       "      <td>{'average': '3500円', 'code': 'B003', 'name': '...</td>\n",
       "      <td>チャージ代385円(税込)　※コース利用はカード利用不可です</td>\n",
       "      <td>42</td>\n",
       "      <td>利用可</td>\n",
       "      <td>120分単品飲み放題◎ 衛生徹底！コロナ対策強化</td>\n",
       "      <td>貸切不可 ：30名様～</td>\n",
       "      <td>...</td>\n",
       "      <td></td>\n",
       "      <td>なし</td>\n",
       "      <td>{'code': 'XX00', 'name': '久茂地'}</td>\n",
       "      <td>県庁前</td>\n",
       "      <td>{'code': 'G001', 'name': '居酒屋'}</td>\n",
       "      <td>なし</td>\n",
       "      <td>あり</td>\n",
       "      <td>{'pc': 'https://www.hotpepper.jp/strJ001126226...</td>\n",
       "      <td></td>\n",
       "      <td>あり</td>\n",
       "    </tr>\n",
       "    <tr>\n",
       "      <th>3</th>\n",
       "      <td>グリーンスプリングスの目の前！／ＪＲ立川駅 北口より徒歩約６分／多摩モノレール立川北駅 北口...</td>\n",
       "      <td>東京都立川市緑町4-5　コトブキヤビル１F　104</td>\n",
       "      <td>不可</td>\n",
       "      <td>なし ：1階の店舗になります♪お手伝いできることがございましたらスタッフまでお声かけ下さい!!</td>\n",
       "      <td>{'average': '3500円', 'code': 'B002', 'name': '...</td>\n",
       "      <td>お通し代300円(税込330円)　電子マネーＰａｙＰａｙ使えます!!</td>\n",
       "      <td>64</td>\n",
       "      <td>利用可</td>\n",
       "      <td>島のご馳走がたくさん♪ 当日予約・金土もOK</td>\n",
       "      <td>貸切可 ：店舗貸切60名様～／その他フロア貸切（テーブル席・お座敷席）も随時受け付けております!!</td>\n",
       "      <td>...</td>\n",
       "      <td>テラス席はペット大歓迎!ワンちゃん用のおやつもサービス!!／プロジェクターは結婚式の二次会等...</td>\n",
       "      <td>なし</td>\n",
       "      <td>{'code': 'X222', 'name': '立川'}</td>\n",
       "      <td>立川</td>\n",
       "      <td>{'code': 'G004', 'name': '和食'}</td>\n",
       "      <td>あり ：《有り》小上がりになっているお座敷席ございます。ご宴会にぴったり♪</td>\n",
       "      <td>あり</td>\n",
       "      <td>{'pc': 'https://www.hotpepper.jp/strJ001222420...</td>\n",
       "      <td>予算や内容等、お気軽にお問い合わせください♪</td>\n",
       "      <td>あり</td>\n",
       "    </tr>\n",
       "    <tr>\n",
       "      <th>4</th>\n",
       "      <td>那覇国際通り。国際通りのちょうど中心。ホテルシーサーイン隣。ゆいレール牧志駅・美栄橋駅から徒...</td>\n",
       "      <td>沖縄県那覇市牧志１-3-58  B1F</td>\n",
       "      <td>不可</td>\n",
       "      <td>なし</td>\n",
       "      <td>{'average': '3500円', 'code': 'B003', 'name': '...</td>\n",
       "      <td>島唄ライブチャージ528円(税込)</td>\n",
       "      <td>112</td>\n",
       "      <td>利用可</td>\n",
       "      <td>本物のおばあの沖縄料理☆ 宴の締めにカチャーシー♪</td>\n",
       "      <td>貸切可</td>\n",
       "      <td>...</td>\n",
       "      <td>【NETでのご予約は小学生以下のお子様がいらっしゃる場合、詳細人数をご明記下さい】</td>\n",
       "      <td>あり</td>\n",
       "      <td>{'code': 'X114', 'name': '国際通り'}</td>\n",
       "      <td>美栄橋</td>\n",
       "      <td>{'code': 'G004', 'name': '和食'}</td>\n",
       "      <td>なし</td>\n",
       "      <td>なし</td>\n",
       "      <td>{'pc': 'https://www.hotpepper.jp/strJ001028195...</td>\n",
       "      <td></td>\n",
       "      <td>あり</td>\n",
       "    </tr>\n",
       "  </tbody>\n",
       "</table>\n",
       "<p>5 rows × 52 columns</p>\n",
       "</div>"
      ],
      "text/plain": [
       "                                              access  \\\n",
       "0  【国際通り松尾バス停目の前】ビル1Fにココカラファイン/沖縄モノレール美栄橋駅・県庁前駅徒歩...   \n",
       "1                      西武池袋線練馬駅徒歩3分／地下鉄都営大江戸線練馬駅徒歩3分   \n",
       "2                         モノレール県庁前駅より徒歩3分、久茂地川沿いからすぐ   \n",
       "3  グリーンスプリングスの目の前！／ＪＲ立川駅 北口より徒歩約６分／多摩モノレール立川北駅 北口...   \n",
       "4  那覇国際通り。国際通りのちょうど中心。ホテルシーサーイン隣。ゆいレール牧志駅・美栄橋駅から徒...   \n",
       "\n",
       "                      address band  \\\n",
       "0         沖縄県那覇市牧志１-2-1　花ビル3F    可   \n",
       "1   東京都練馬区豊玉北５‐２１‐１ ポニー豊玉ビル１Ｆ   不可   \n",
       "2  沖縄県那覇市久茂地２－６－１　コーポカミハマビル１F   不可   \n",
       "3   東京都立川市緑町4-5　コトブキヤビル１F　104   不可   \n",
       "4         沖縄県那覇市牧志１-3-58  B1F   不可   \n",
       "\n",
       "                                      barrier_free  \\\n",
       "0                     あり ：お手伝いできることがありましたらお声掛けください   \n",
       "1                                               なし   \n",
       "2                                               なし   \n",
       "3  なし ：1階の店舗になります♪お手伝いできることがございましたらスタッフまでお声かけ下さい!!   \n",
       "4                                               なし   \n",
       "\n",
       "                                              budget  \\\n",
       "0  {'average': '2000円～4000円', 'code': 'B002', 'na...   \n",
       "1  {'average': '2800円(通常平均) 3000円(宴会平均) ', 'code'...   \n",
       "2  {'average': '3500円', 'code': 'B003', 'name': '...   \n",
       "3  {'average': '3500円', 'code': 'B002', 'name': '...   \n",
       "4  {'average': '3500円', 'code': 'B003', 'name': '...   \n",
       "\n",
       "                          budget_memo  capacity card  \\\n",
       "0           テーブル・ライブチャージ （お通し付き）1000円       100  利用可   \n",
       "1                              席料150円        40  利用可   \n",
       "2      チャージ代385円(税込)　※コース利用はカード利用不可です        42  利用可   \n",
       "3  お通し代300円(税込330円)　電子マネーＰａｙＰａｙ使えます!!        64  利用可   \n",
       "4                   島唄ライブチャージ528円(税込)       112  利用可   \n",
       "\n",
       "                       catch  \\\n",
       "0   毎日開催！島唄ライブ♪ こだわりの島酒と沖縄料理   \n",
       "1              沖縄料理 オリオン生ビール   \n",
       "2   120分単品飲み放題◎ 衛生徹底！コロナ対策強化   \n",
       "3     島のご馳走がたくさん♪ 当日予約・金土もOK   \n",
       "4  本物のおばあの沖縄料理☆ 宴の締めにカチャーシー♪   \n",
       "\n",
       "                                             charter  ...  \\\n",
       "0                                   貸切可 ：貸切可：最大100名！  ...   \n",
       "1                                        貸切可 ：貸切大歓迎☆  ...   \n",
       "2                                        貸切不可 ：30名様～  ...   \n",
       "3  貸切可 ：店舗貸切60名様～／その他フロア貸切（テーブル席・お座敷席）も随時受け付けております!!  ...   \n",
       "4                                                貸切可  ...   \n",
       "\n",
       "                                    shop_detail_memo show  \\\n",
       "0                      三線ライブ♪♪普段使いはもちろん、女子会や誕生日にも最適！   あり   \n",
       "1                                                      なし   \n",
       "2                                                      なし   \n",
       "3  テラス席はペット大歓迎!ワンちゃん用のおやつもサービス!!／プロジェクターは結婚式の二次会等...   なし   \n",
       "4          【NETでのご予約は小学生以下のお子様がいらっしゃる場合、詳細人数をご明記下さい】   あり   \n",
       "\n",
       "                         small_area station_name  \\\n",
       "0  {'code': 'X114', 'name': '国際通り'}           牧志   \n",
       "1    {'code': 'X631', 'name': '練馬'}           練馬   \n",
       "2   {'code': 'XX00', 'name': '久茂地'}          県庁前   \n",
       "3    {'code': 'X222', 'name': '立川'}           立川   \n",
       "4  {'code': 'X114', 'name': '国際通り'}          美栄橋   \n",
       "\n",
       "                         sub_genre                                 tatami  tv  \\\n",
       "0   {'code': 'G004', 'name': '和食'}                           なし ：座敷はありません  なし   \n",
       "1  {'code': 'G001', 'name': '居酒屋'}                        あり ：6名席×2、4名席×3  あり   \n",
       "2  {'code': 'G001', 'name': '居酒屋'}                                     なし  あり   \n",
       "3   {'code': 'G004', 'name': '和食'}  あり ：《有り》小上がりになっているお座敷席ございます。ご宴会にぴったり♪  あり   \n",
       "4   {'code': 'G004', 'name': '和食'}                                     なし  なし   \n",
       "\n",
       "                                                urls  \\\n",
       "0  {'pc': 'https://www.hotpepper.jp/strJ001246993...   \n",
       "1  {'pc': 'https://www.hotpepper.jp/strJ000150893...   \n",
       "2  {'pc': 'https://www.hotpepper.jp/strJ001126226...   \n",
       "3  {'pc': 'https://www.hotpepper.jp/strJ001222420...   \n",
       "4  {'pc': 'https://www.hotpepper.jp/strJ001028195...   \n",
       "\n",
       "                             wedding wifi  \n",
       "0  大歓迎★サプライズもお任せ！大切な方に歌のプレゼントもできますよ♪   あり  \n",
       "1                  承ります！お気軽にご相談ください。  未確認  \n",
       "2                                      あり  \n",
       "3             予算や内容等、お気軽にお問い合わせください♪   あり  \n",
       "4                                      あり  \n",
       "\n",
       "[5 rows x 52 columns]"
      ]
     },
     "execution_count": 26,
     "metadata": {},
     "output_type": "execute_result"
    }
   ],
   "source": [
    "df.head()"
   ]
  },
  {
   "cell_type": "code",
   "execution_count": 27,
   "metadata": {},
   "outputs": [
    {
     "data": {
      "text/plain": [
       "Index(['access', 'address', 'band', 'barrier_free', 'budget', 'budget_memo',\n",
       "       'capacity', 'card', 'catch', 'charter', 'child', 'close', 'coupon_urls',\n",
       "       'course', 'english', 'free_drink', 'free_food', 'genre', 'horigotatsu',\n",
       "       'id', 'karaoke', 'ktai_coupon', 'large_area', 'large_service_area',\n",
       "       'lat', 'lng', 'logo_image', 'lunch', 'middle_area', 'midnight',\n",
       "       'mobile_access', 'name', 'name_kana', 'non_smoking', 'open',\n",
       "       'other_memo', 'parking', 'party_capacity', 'pet', 'photo',\n",
       "       'private_room', 'service_area', 'shop_detail_memo', 'show',\n",
       "       'small_area', 'station_name', 'sub_genre', 'tatami', 'tv', 'urls',\n",
       "       'wedding', 'wifi'],\n",
       "      dtype='object')"
      ]
     },
     "execution_count": 27,
     "metadata": {},
     "output_type": "execute_result"
    }
   ],
   "source": [
    "# カラム名の取得\n",
    "df.columns"
   ]
  },
  {
   "cell_type": "code",
   "execution_count": 30,
   "metadata": {},
   "outputs": [],
   "source": [
    "df = df[['name', 'address', 'wifi']]"
   ]
  },
  {
   "cell_type": "code",
   "execution_count": 31,
   "metadata": {},
   "outputs": [
    {
     "data": {
      "text/html": [
       "<div>\n",
       "<style scoped>\n",
       "    .dataframe tbody tr th:only-of-type {\n",
       "        vertical-align: middle;\n",
       "    }\n",
       "\n",
       "    .dataframe tbody tr th {\n",
       "        vertical-align: top;\n",
       "    }\n",
       "\n",
       "    .dataframe thead th {\n",
       "        text-align: right;\n",
       "    }\n",
       "</style>\n",
       "<table border=\"1\" class=\"dataframe\">\n",
       "  <thead>\n",
       "    <tr style=\"text-align: right;\">\n",
       "      <th></th>\n",
       "      <th>name</th>\n",
       "      <th>address</th>\n",
       "      <th>wifi</th>\n",
       "    </tr>\n",
       "  </thead>\n",
       "  <tbody>\n",
       "    <tr>\n",
       "      <th>0</th>\n",
       "      <td>島唄ライブ居酒屋 結歌</td>\n",
       "      <td>沖縄県那覇市牧志１-2-1　花ビル3F</td>\n",
       "      <td>あり</td>\n",
       "    </tr>\n",
       "    <tr>\n",
       "      <th>1</th>\n",
       "      <td>海人 練馬店</td>\n",
       "      <td>東京都練馬区豊玉北５‐２１‐１ ポニー豊玉ビル１Ｆ</td>\n",
       "      <td>未確認</td>\n",
       "    </tr>\n",
       "    <tr>\n",
       "      <th>2</th>\n",
       "      <td>しか枡屋</td>\n",
       "      <td>沖縄県那覇市久茂地２－６－１　コーポカミハマビル１F</td>\n",
       "      <td>あり</td>\n",
       "    </tr>\n",
       "    <tr>\n",
       "      <th>3</th>\n",
       "      <td>琉球坊主 立川北口店</td>\n",
       "      <td>東京都立川市緑町4-5　コトブキヤビル１F　104</td>\n",
       "      <td>あり</td>\n",
       "    </tr>\n",
       "    <tr>\n",
       "      <th>4</th>\n",
       "      <td>島唄ライブおばぁの家 海音 みおん</td>\n",
       "      <td>沖縄県那覇市牧志１-3-58  B1F</td>\n",
       "      <td>あり</td>\n",
       "    </tr>\n",
       "  </tbody>\n",
       "</table>\n",
       "</div>"
      ],
      "text/plain": [
       "                name                     address wifi\n",
       "0        島唄ライブ居酒屋 結歌         沖縄県那覇市牧志１-2-1　花ビル3F   あり\n",
       "1             海人 練馬店   東京都練馬区豊玉北５‐２１‐１ ポニー豊玉ビル１Ｆ  未確認\n",
       "2               しか枡屋  沖縄県那覇市久茂地２－６－１　コーポカミハマビル１F   あり\n",
       "3         琉球坊主 立川北口店   東京都立川市緑町4-5　コトブキヤビル１F　104   あり\n",
       "4  島唄ライブおばぁの家 海音 みおん         沖縄県那覇市牧志１-3-58  B1F   あり"
      ]
     },
     "execution_count": 31,
     "metadata": {},
     "output_type": "execute_result"
    }
   ],
   "source": [
    "df.head()"
   ]
  },
  {
   "cell_type": "code",
   "execution_count": 32,
   "metadata": {},
   "outputs": [],
   "source": [
    "df.to_csv('hotpepper.csv', index=False)"
   ]
  },
  {
   "cell_type": "code",
   "execution_count": null,
   "metadata": {},
   "outputs": [],
   "source": []
  }
 ],
 "metadata": {
  "kernelspec": {
   "display_name": "Python 3",
   "language": "python",
   "name": "python3"
  },
  "language_info": {
   "codemirror_mode": {
    "name": "ipython",
    "version": 3
   },
   "file_extension": ".py",
   "mimetype": "text/x-python",
   "name": "python",
   "nbconvert_exporter": "python",
   "pygments_lexer": "ipython3",
   "version": "3.7.6"
  }
 },
 "nbformat": 4,
 "nbformat_minor": 4
}
