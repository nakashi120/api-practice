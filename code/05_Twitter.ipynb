{
 "cells": [
  {
   "cell_type": "markdown",
   "metadata": {},
   "source": [
    "## API Keyの入力"
   ]
  },
  {
   "cell_type": "code",
   "execution_count": 1,
   "metadata": {},
   "outputs": [],
   "source": [
    "import json"
   ]
  },
  {
   "cell_type": "code",
   "execution_count": 5,
   "metadata": {},
   "outputs": [],
   "source": [
    "with open('api_key/twitter.json') as f:\n",
    "    twitter_keys = json.load(f)"
   ]
  },
  {
   "cell_type": "code",
   "execution_count": 6,
   "metadata": {},
   "outputs": [],
   "source": [
    "consumer_key = twitter_keys['consumer_key']\n",
    "consumer_secret = twitter_keys['consumer_secret']\n",
    "access_token = twitter_keys['access_token']\n",
    "access_token_secret = twitter_keys['access_token_secret']"
   ]
  },
  {
   "cell_type": "code",
   "execution_count": null,
   "metadata": {},
   "outputs": [],
   "source": []
  },
  {
   "cell_type": "code",
   "execution_count": 10,
   "metadata": {},
   "outputs": [
    {
     "name": "stdout",
     "output_type": "stream",
     "text": [
      "Requirement already satisfied: tweepy in /opt/anaconda3/lib/python3.7/site-packages (3.10.0)\n",
      "Requirement already satisfied: requests[socks]>=2.11.1 in /opt/anaconda3/lib/python3.7/site-packages (from tweepy) (2.22.0)\n",
      "Requirement already satisfied: six>=1.10.0 in /opt/anaconda3/lib/python3.7/site-packages (from tweepy) (1.14.0)\n",
      "Requirement already satisfied: requests-oauthlib>=0.7.0 in /opt/anaconda3/lib/python3.7/site-packages (from tweepy) (1.3.0)\n",
      "Requirement already satisfied: oauthlib>=3.0.0 in /opt/anaconda3/lib/python3.7/site-packages (from requests-oauthlib>=0.7.0->tweepy) (3.1.0)\n",
      "Requirement already satisfied: idna<2.9,>=2.5 in /opt/anaconda3/lib/python3.7/site-packages (from requests[socks]>=2.11.1->tweepy) (2.8)\n",
      "Requirement already satisfied: chardet<3.1.0,>=3.0.2 in /opt/anaconda3/lib/python3.7/site-packages (from requests[socks]>=2.11.1->tweepy) (3.0.4)\n",
      "Requirement already satisfied: certifi>=2017.4.17 in /opt/anaconda3/lib/python3.7/site-packages (from requests[socks]>=2.11.1->tweepy) (2019.11.28)\n",
      "Requirement already satisfied: urllib3!=1.25.0,!=1.25.1,<1.26,>=1.21.1 in /opt/anaconda3/lib/python3.7/site-packages (from requests[socks]>=2.11.1->tweepy) (1.25.8)\n",
      "Requirement already satisfied: PySocks!=1.5.7,>=1.5.6 in /opt/anaconda3/lib/python3.7/site-packages (from requests[socks]>=2.11.1->tweepy) (1.7.1)\n"
     ]
    }
   ],
   "source": [
    "# Tweepyのインストール\n",
    "!pip install tweepy"
   ]
  },
  {
   "cell_type": "code",
   "execution_count": 11,
   "metadata": {},
   "outputs": [],
   "source": [
    "import tweepy"
   ]
  },
  {
   "cell_type": "code",
   "execution_count": 12,
   "metadata": {},
   "outputs": [],
   "source": [
    "auth = tweepy.OAuthHandler(consumer_key, consumer_secret)\n",
    "auth.set_access_token(access_token, access_token_secret)"
   ]
  },
  {
   "cell_type": "code",
   "execution_count": 13,
   "metadata": {},
   "outputs": [],
   "source": [
    "api = tweepy.API(auth)"
   ]
  },
  {
   "cell_type": "code",
   "execution_count": 14,
   "metadata": {},
   "outputs": [
    {
     "data": {
      "text/plain": [
       "<tweepy.api.API at 0x7f899d8b4a10>"
      ]
     },
     "execution_count": 14,
     "metadata": {},
     "output_type": "execute_result"
    }
   ],
   "source": [
    "api"
   ]
  },
  {
   "cell_type": "code",
   "execution_count": 16,
   "metadata": {},
   "outputs": [
    {
     "name": "stdout",
     "output_type": "stream",
     "text": [
      "RT @eigokame_: 「今日『華月』やし、飲みに行かへん？」って言える男になりたい。月曜に楽しみあるだけで、日曜と火曜のモチベーションだいぶ変わってくる笑\n",
      "RT @hinoshin817: 年収って、\n",
      "業界×職種×企業レベル×役職\n",
      "で決まりますもんね。\n",
      "\n",
      "自分もこれを意識してキャリア戦略組んでます☺️\n",
      "アル開発室はこちらです。\n",
      "\n",
      "https://t.co/u4fmbd0Bkq\n",
      "\n",
      "こういうのにすっと入ってしまう人は、リテラシーが高いか、逆にすごい低いかのどちらかで、後者の人たちが失敗しないように、あまり簡単にネットの人を信じないほうがいいよ！的なことはよく書いています。\n",
      "ブログってさ。その時その時の結果に一喜一憂してちゃダメだよね。しっかりと戦略を練って、そこに向けて着実に記事を積み重ねていかないと。\n",
      "もっと長い目でブログに取り組もう。\n",
      "今日のアル開発室は、オンラインサロン＝詐欺、くらいの解像度だと、詐欺師はすぐに迂回して騙してくるので、ちゃんとオンラインサロンの何を使って騙してあるのかの詳細も知った方がいいよね、的なことを書きました！ https://t.co/YVrfJzhY6T\n",
      "今日の積み上げです😁\n",
      "\n",
      "私の発音は自然ですか？\n",
      "あなたの発音を聞かせてください。 https://t.co/SPt3Tgujat #HiNative\n",
      "RT @newsalaryman_21: キャリアはそこそこで良い人は、仕事の進捗に関わらず毎日定時退社し、良いし残業も無視。\n",
      "\n",
      "でも新入社員だろうが役員だろうが、プロの意識を持ちたければ、残るべきときは残業してでも残るべきよ。もちろん仕事が片付いていたら、何の遠慮もなく定時退…\n",
      "コヴェントガーデンかどこかの駅がめちゃくちゃホームが深いのにエレベーターが途中までしかない（階段でも降りられるが永遠に続くかのような長さ）上に、最後さらに階段で、帰国する日にスーツケース抱えてしんどい思いをしたのを覚えてます https://t.co/EtuYZWa8Bq\n",
      "やる事に制限時間を設けてもタイマー無視しちゃうからどうしようもない…\n",
      "毎日試行錯誤してこ\n",
      "RT @SalesAndMarke: 金銭の授受が発生するとき、なんらかの価値交換が行われてる。\n",
      "だから本質的に\"M&amp;Aも転職活動と似てる\"と言われても納得がいく。\n",
      "\n",
      "ただM&amp;Aの方がより具体的(定量的)に成果を求められる印象。\n",
      "\n",
      "“年収”は転職理由になるか@moto_recr…\n",
      "@_reime Endに勝てる復活の呪文は OnTimeだけ という持論\n",
      "朝令暮改そのものが悪だと思わないけど、やり方によっては悪印象にも好印象にもなるから要注意。\n",
      "\n",
      "宣言して、仮説検証して、失敗と潔く認めた上で次に進めば「臨機応変」と好印象になるだろけど、黙って変えられると周囲はついていけないことも。… https://t.co/wvuaoXSwmH\n",
      "@KotorinChunChun Endには勝てなかったよ……。\n",
      "やっぱり転職の際の一つの要素として年収も重要ですよね。ただ前提としてその年収分の価値をどう発揮できるか・するかが大事で、そこが一番考えなきゃいけないポイントだなぁ。　\n",
      "“年収”は転職理由になるか？｜moto / 戸塚 俊介… https://t.co/EejNXNA5lI\n",
      "今日も腹筋をする。そして寝る\n",
      "ごめんなさい。中のメンバは消えます。\n",
      "Static細胞はありませんでした！！！\n",
      "RT @qnighy: 奇妙な曜日バグ | Wantedly Engineer Blog by @qnighy https://t.co/PwR7wxEgRb\n",
      "@_reime はい。まさにそれです。\n",
      "だから、目的からは外れてるかなーと思いました。\n",
      "Excel VBA の Application.ThisCell と Application.Caller の違い\n",
      "知りませんでした！確かに挙動が違うようです。 https://t.co/0au2MRcENV https://t.co/wgXT0sTkDP\n"
     ]
    }
   ],
   "source": [
    "public_tweets = api.home_timeline()\n",
    "for tweet in public_tweets:\n",
    "    print(tweet.text)"
   ]
  },
  {
   "cell_type": "code",
   "execution_count": null,
   "metadata": {},
   "outputs": [],
   "source": []
  }
 ],
 "metadata": {
  "kernelspec": {
   "display_name": "Python 3",
   "language": "python",
   "name": "python3"
  },
  "language_info": {
   "codemirror_mode": {
    "name": "ipython",
    "version": 3
   },
   "file_extension": ".py",
   "mimetype": "text/x-python",
   "name": "python",
   "nbconvert_exporter": "python",
   "pygments_lexer": "ipython3",
   "version": "3.7.6"
  }
 },
 "nbformat": 4,
 "nbformat_minor": 4
}
