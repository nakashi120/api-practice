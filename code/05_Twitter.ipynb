{
 "cells": [
  {
   "cell_type": "markdown",
   "metadata": {},
   "source": [
    "## API Keyの入力"
   ]
  },
  {
   "cell_type": "code",
   "execution_count": 30,
   "metadata": {},
   "outputs": [],
   "source": [
    "import json"
   ]
  },
  {
   "cell_type": "code",
   "execution_count": 31,
   "metadata": {},
   "outputs": [],
   "source": [
    "with open('api_key/twitter.json') as f:\n",
    "    twitter_keys = json.load(f)"
   ]
  },
  {
   "cell_type": "code",
   "execution_count": 32,
   "metadata": {},
   "outputs": [],
   "source": [
    "consumer_key = twitter_keys['consumer_key']\n",
    "consumer_secret = twitter_keys['consumer_secret']\n",
    "access_token = twitter_keys['access_token']\n",
    "access_token_secret = twitter_keys['access_token_secret']"
   ]
  },
  {
   "cell_type": "code",
   "execution_count": null,
   "metadata": {},
   "outputs": [],
   "source": []
  },
  {
   "cell_type": "code",
   "execution_count": 33,
   "metadata": {},
   "outputs": [],
   "source": [
    "# Tweepyのインストール\n",
    "# !pip install tweepy"
   ]
  },
  {
   "cell_type": "code",
   "execution_count": 34,
   "metadata": {},
   "outputs": [],
   "source": [
    "import tweepy"
   ]
  },
  {
   "cell_type": "code",
   "execution_count": 35,
   "metadata": {},
   "outputs": [],
   "source": [
    "auth = tweepy.OAuthHandler(consumer_key, consumer_secret)\n",
    "auth.set_access_token(access_token, access_token_secret)"
   ]
  },
  {
   "cell_type": "code",
   "execution_count": 36,
   "metadata": {},
   "outputs": [],
   "source": [
    "api = tweepy.API(auth)"
   ]
  },
  {
   "cell_type": "code",
   "execution_count": 37,
   "metadata": {},
   "outputs": [
    {
     "data": {
      "text/plain": [
       "<tweepy.api.API at 0x7f899cd8bed0>"
      ]
     },
     "execution_count": 37,
     "metadata": {},
     "output_type": "execute_result"
    }
   ],
   "source": [
    "api"
   ]
  },
  {
   "cell_type": "code",
   "execution_count": 18,
   "metadata": {},
   "outputs": [
    {
     "name": "stdout",
     "output_type": "stream",
     "text": [
      "研修を受けている時に「あ、あの時の出来事が当てはまるな」と自分の経験と結びつけて理解することができたのでインターンをしていてよかったと思っています\n",
      "\n",
      "普通は研修で聞いた段階では理解できず、数年経って自分の経験を振り返った時に初めて気づくことを先に経験できたのは本当に強い\n",
      "@KotorinChunChun プロとアマの違いというやつですね😄\n",
      "勉強になります。そのアンテナも貼っておかなければですね！\n",
      "新年度が始まり、予想通りアクセスがどんどん増えてます。\n",
      "今年はおかげさまでAppleさんやAdobeさん商品の紹介記事にもたくさんアクセスいただいていて、かなりのPV数になると予想。\n",
      "\n",
      "サーバーの調子はすこぶる良くて、契約月数残し… https://t.co/opBhX2xp9n\n",
      "社長がお客様のために何が出来るか？を考えてる最中、従業員が考えていることは、今日の晩飯は何にしようかな〜です。これが現実です。\n",
      "\n",
      "私はこれが自然なことだと思います。\n",
      "@911_takuya ノンプロではVSCode自体を使ってる人が少ないと思いますが、エンジニア界隈ではVSCodeとかマルチカーソルは普通なのでアンテナの違いだと思いますよ！\n",
      "markdown-it-checkboxでチェックボックスを押したときのイベントが取得したいのでが、どうすればよいのだろうか。。\n",
      "社長はお客様のために頑張ろう！だけど、従業員は自分のために頑張ろう！なんです。どんなやり方して考えを一致させようとしても、そもそもの前提が違うのです。悩ましいことです。\n",
      "コロナ不況を切っ掛けとして、業務に精通したVBA人材の価値が上がるというのはあると思います（業務効率化などで活躍）。\n",
      "\n",
      "VBAそのものの価値という意味では、コロナ不況による影響は小さいと考えます。\n",
      "#マシュマロを投げ合おう\n",
      "https://t.co/7TlGwjAgxI\n",
      "試しにロジックを変えてみよう。\n",
      "「src_backフォルダを作成して、srcの中身すべてをsrc_Backへ移動。その後srcにエクスポートして、差分確認処理が住んでからsrc_backを削除」\n",
      "\n",
      "これでsrcの競合は起きないはず。\n",
      "\n",
      "そのうちなおそう。\n",
      "RT @alco_uj: 4月5日、城山台にイタリアンベースのレストラン「Piccolo Regalo」がオープンしてる！\n",
      "\n",
      "https://t.co/xW48RzqTxk\n",
      "\n",
      "奈良県のならまちエリアで営業されていましたが、昨年11月末に前店舗を閉店し、城山台に移転されました。…\n",
      "ありがたい🥺✨ https://t.co/TzD6G1NPWX\n",
      "RT @yon_yon_mbs: あさって8日深夜3時(予定)〜の\n",
      "『よんタメ』は\n",
      "今話題の連続ドラマ #リスキー に\n",
      "出演中の #宮近海斗 さん（#TravisJapan /ジャニーズJr.）が\n",
      "登場✨🥺\n",
      "\n",
      "ドラマは #ゾクキュン ですが、\n",
      "よんよんチャレンジは #キュン と…\n",
      "Googleドライブのアプリからすれば、一旦srcがsrc_backに変更されているので、実行前後で、クラウド上のsrcフォルダの管理ID的なものが変化しているのだと思う。\n",
      "\n",
      "どうやってチェックしているのか知らないが、PC2のフォ… https://t.co/FTzFIP3qmc\n",
      "おそらく、srcフォルダの更新のロジックにあると思う。\n",
      "\n",
      "実装コードを見ると\n",
      "「フォルダ内のファイルをすべて削除」\n",
      "ではなく\n",
      "「フォルダを src_back に変更してから srcフォルダを作成してコードを出力。その後 src_b… https://t.co/5tLwidqeve\n",
      "RT @tokyowanganlife: 当時の交渉を担当した当事者です。\n",
      "落札が発表された当日に落札先を電話で聞き、大和ハウスさんと連絡を取り、翌日にはブリリアマーレ有明のバーラウンジから実際の眺望を確認いただき、写真を撮ってもらいました。\n",
      "大和ハウスさんは周辺住民の要望を真…\n",
      "@pokekoblog @himarin_mi 子育ては長いわね😭\n",
      "VBAのソースコードを一括エクスポートするアドインをGoogleドライブ上で実行するとPC間でフォルダの不整合が起こることが判明\n",
      "\n",
      "PC1で src に出力したのに PC2では src (1)になる\n",
      "PC2で src に出力すると… https://t.co/DpnwwvXrq3\n",
      "😻😻😻😻\n",
      "😻\n",
      "😻　　😻😻　　😻😻😻\n",
      "😻　　　😻　　😻　😻\n",
      "😻😻😻😻　　😻😻😻\n",
      "\n",
      "😻😻😻\n",
      "😻\n",
      "😻😻😻　　😻😻😻\n",
      "😻　　　　😻　😻\n",
      "😻　　　　😻😻😻\n",
      "\n",
      "😻\n",
      "😻　　　😻\n",
      "😻　　😻😻😻\n",
      "😻　　　😻\n",
      "😻　　　😻\n",
      "\n",
      "@bb_ja_k https://t.co/fLoKNbDemN\n",
      "みんなスゴイな。ちゃんと遊びながら学習してる。\n"
     ]
    }
   ],
   "source": [
    "public_tweets = api.home_timeline()\n",
    "for tweet in public_tweets:\n",
    "    print(tweet.text)"
   ]
  },
  {
   "cell_type": "code",
   "execution_count": null,
   "metadata": {},
   "outputs": [],
   "source": []
  },
  {
   "cell_type": "code",
   "execution_count": 38,
   "metadata": {},
   "outputs": [],
   "source": [
    "# ()が必要なことに気をつける\n",
    "me = api.me()"
   ]
  },
  {
   "cell_type": "code",
   "execution_count": 39,
   "metadata": {},
   "outputs": [
    {
     "data": {
      "text/plain": [
       "User(_api=<tweepy.api.API object at 0x7f899cd8bed0>, _json={'id': 1210887794802847745, 'id_str': '1210887794802847745', 'name': 'なかし with a mission', 'screen_name': 'JobNakashi', 'location': '', 'profile_location': None, 'description': 'ラクをしたい。早く帰りたい。でも人には認められたい。そんな気持ちでExcelやプログラミングを使ってます。', 'url': None, 'entities': {'description': {'urls': []}}, 'protected': False, 'followers_count': 317, 'friends_count': 243, 'listed_count': 4, 'created_at': 'Sat Dec 28 11:38:50 +0000 2019', 'favourites_count': 8811, 'utc_offset': None, 'time_zone': None, 'geo_enabled': False, 'verified': False, 'statuses_count': 3530, 'lang': None, 'status': {'created_at': 'Mon Apr 05 15:22:41 +0000 2021', 'id': 1379092135014637568, 'id_str': '1379092135014637568', 'text': '製造業にいると「効率化神話」みたいのが体に染みついてしまった。でも確かにイノベーションを見たことがない。部分最適化を繰り返すと全体最適から遠くなるということなんだろうな。「作業を早く」じゃなくて「目的を達成するにはどうする？」をち… https://t.co/RUauczzmU4', 'truncated': True, 'entities': {'hashtags': [], 'symbols': [], 'user_mentions': [], 'urls': [{'url': 'https://t.co/RUauczzmU4', 'expanded_url': 'https://twitter.com/i/web/status/1379092135014637568', 'display_url': 'twitter.com/i/web/status/1…', 'indices': [117, 140]}]}, 'source': '<a href=\"http://twitter.com/download/iphone\" rel=\"nofollow\">Twitter for iPhone</a>', 'in_reply_to_status_id': None, 'in_reply_to_status_id_str': None, 'in_reply_to_user_id': None, 'in_reply_to_user_id_str': None, 'in_reply_to_screen_name': None, 'geo': None, 'coordinates': None, 'place': None, 'contributors': None, 'is_quote_status': True, 'quoted_status_id': 1379088490042814472, 'quoted_status_id_str': '1379088490042814472', 'retweet_count': 0, 'favorite_count': 0, 'favorited': False, 'retweeted': False, 'possibly_sensitive': False, 'lang': 'ja'}, 'contributors_enabled': False, 'is_translator': False, 'is_translation_enabled': False, 'profile_background_color': 'F5F8FA', 'profile_background_image_url': None, 'profile_background_image_url_https': None, 'profile_background_tile': False, 'profile_image_url': 'http://pbs.twimg.com/profile_images/1349690328945594374/J6xPfUbv_normal.jpg', 'profile_image_url_https': 'https://pbs.twimg.com/profile_images/1349690328945594374/J6xPfUbv_normal.jpg', 'profile_link_color': '1DA1F2', 'profile_sidebar_border_color': 'C0DEED', 'profile_sidebar_fill_color': 'DDEEF6', 'profile_text_color': '333333', 'profile_use_background_image': True, 'has_extended_profile': True, 'default_profile': True, 'default_profile_image': False, 'following': False, 'follow_request_sent': False, 'notifications': False, 'translator_type': 'none', 'suspended': False, 'needs_phone_verification': False}, id=1210887794802847745, id_str='1210887794802847745', name='なかし with a mission', screen_name='JobNakashi', location='', profile_location=None, description='ラクをしたい。早く帰りたい。でも人には認められたい。そんな気持ちでExcelやプログラミングを使ってます。', url=None, entities={'description': {'urls': []}}, protected=False, followers_count=317, friends_count=243, listed_count=4, created_at=datetime.datetime(2019, 12, 28, 11, 38, 50), favourites_count=8811, utc_offset=None, time_zone=None, geo_enabled=False, verified=False, statuses_count=3530, lang=None, status=Status(_api=<tweepy.api.API object at 0x7f899cd8bed0>, _json={'created_at': 'Mon Apr 05 15:22:41 +0000 2021', 'id': 1379092135014637568, 'id_str': '1379092135014637568', 'text': '製造業にいると「効率化神話」みたいのが体に染みついてしまった。でも確かにイノベーションを見たことがない。部分最適化を繰り返すと全体最適から遠くなるということなんだろうな。「作業を早く」じゃなくて「目的を達成するにはどうする？」をち… https://t.co/RUauczzmU4', 'truncated': True, 'entities': {'hashtags': [], 'symbols': [], 'user_mentions': [], 'urls': [{'url': 'https://t.co/RUauczzmU4', 'expanded_url': 'https://twitter.com/i/web/status/1379092135014637568', 'display_url': 'twitter.com/i/web/status/1…', 'indices': [117, 140]}]}, 'source': '<a href=\"http://twitter.com/download/iphone\" rel=\"nofollow\">Twitter for iPhone</a>', 'in_reply_to_status_id': None, 'in_reply_to_status_id_str': None, 'in_reply_to_user_id': None, 'in_reply_to_user_id_str': None, 'in_reply_to_screen_name': None, 'geo': None, 'coordinates': None, 'place': None, 'contributors': None, 'is_quote_status': True, 'quoted_status_id': 1379088490042814472, 'quoted_status_id_str': '1379088490042814472', 'retweet_count': 0, 'favorite_count': 0, 'favorited': False, 'retweeted': False, 'possibly_sensitive': False, 'lang': 'ja'}, created_at=datetime.datetime(2021, 4, 5, 15, 22, 41), id=1379092135014637568, id_str='1379092135014637568', text='製造業にいると「効率化神話」みたいのが体に染みついてしまった。でも確かにイノベーションを見たことがない。部分最適化を繰り返すと全体最適から遠くなるということなんだろうな。「作業を早く」じゃなくて「目的を達成するにはどうする？」をち… https://t.co/RUauczzmU4', truncated=True, entities={'hashtags': [], 'symbols': [], 'user_mentions': [], 'urls': [{'url': 'https://t.co/RUauczzmU4', 'expanded_url': 'https://twitter.com/i/web/status/1379092135014637568', 'display_url': 'twitter.com/i/web/status/1…', 'indices': [117, 140]}]}, source='Twitter for iPhone', source_url='http://twitter.com/download/iphone', in_reply_to_status_id=None, in_reply_to_status_id_str=None, in_reply_to_user_id=None, in_reply_to_user_id_str=None, in_reply_to_screen_name=None, geo=None, coordinates=None, place=None, contributors=None, is_quote_status=True, quoted_status_id=1379088490042814472, quoted_status_id_str='1379088490042814472', retweet_count=0, favorite_count=0, favorited=False, retweeted=False, possibly_sensitive=False, lang='ja'), contributors_enabled=False, is_translator=False, is_translation_enabled=False, profile_background_color='F5F8FA', profile_background_image_url=None, profile_background_image_url_https=None, profile_background_tile=False, profile_image_url='http://pbs.twimg.com/profile_images/1349690328945594374/J6xPfUbv_normal.jpg', profile_image_url_https='https://pbs.twimg.com/profile_images/1349690328945594374/J6xPfUbv_normal.jpg', profile_link_color='1DA1F2', profile_sidebar_border_color='C0DEED', profile_sidebar_fill_color='DDEEF6', profile_text_color='333333', profile_use_background_image=True, has_extended_profile=True, default_profile=True, default_profile_image=False, following=False, follow_request_sent=False, notifications=False, translator_type='none', suspended=False, needs_phone_verification=False)"
      ]
     },
     "execution_count": 39,
     "metadata": {},
     "output_type": "execute_result"
    }
   ],
   "source": [
    "me"
   ]
  },
  {
   "cell_type": "code",
   "execution_count": 40,
   "metadata": {},
   "outputs": [
    {
     "data": {
      "text/plain": [
       "datetime.datetime(2019, 12, 28, 11, 38, 50)"
      ]
     },
     "execution_count": 40,
     "metadata": {},
     "output_type": "execute_result"
    }
   ],
   "source": [
    "me.created_at"
   ]
  },
  {
   "cell_type": "code",
   "execution_count": 41,
   "metadata": {},
   "outputs": [
    {
     "data": {
      "text/plain": [
       "'ラクをしたい。早く帰りたい。でも人には認められたい。そんな気持ちでExcelやプログラミングを使ってます。'"
      ]
     },
     "execution_count": 41,
     "metadata": {},
     "output_type": "execute_result"
    }
   ],
   "source": [
    "me.description"
   ]
  },
  {
   "cell_type": "code",
   "execution_count": 42,
   "metadata": {},
   "outputs": [
    {
     "data": {
      "text/plain": [
       "317"
      ]
     },
     "execution_count": 42,
     "metadata": {},
     "output_type": "execute_result"
    }
   ],
   "source": [
    "me.followers_count"
   ]
  },
  {
   "cell_type": "code",
   "execution_count": 43,
   "metadata": {},
   "outputs": [
    {
     "data": {
      "text/plain": [
       "243"
      ]
     },
     "execution_count": 43,
     "metadata": {},
     "output_type": "execute_result"
    }
   ],
   "source": [
    "me.friends_count"
   ]
  },
  {
   "cell_type": "code",
   "execution_count": 48,
   "metadata": {},
   "outputs": [
    {
     "data": {
      "text/plain": [
       "161"
      ]
     },
     "execution_count": 48,
     "metadata": {},
     "output_type": "execute_result"
    }
   ],
   "source": [
    "me.followers()[0].followers_count"
   ]
  },
  {
   "cell_type": "markdown",
   "metadata": {},
   "source": [
    "## 特定のユーザー情報の取得"
   ]
  },
  {
   "cell_type": "code",
   "execution_count": 50,
   "metadata": {},
   "outputs": [],
   "source": [
    "user = api.get_user('@yousuck2020')"
   ]
  },
  {
   "cell_type": "code",
   "execution_count": 51,
   "metadata": {},
   "outputs": [
    {
     "data": {
      "text/plain": [
       "11076409"
      ]
     },
     "execution_count": 51,
     "metadata": {},
     "output_type": "execute_result"
    }
   ],
   "source": [
    "user.followers_count"
   ]
  },
  {
   "cell_type": "code",
   "execution_count": 52,
   "metadata": {},
   "outputs": [
    {
     "data": {
      "text/plain": [
       "{'url': {'urls': [{'url': 'https://t.co/wsRJKYNnDy',\n",
       "    'expanded_url': 'https://www.youtube.com/c/YusakuMaezawaTV',\n",
       "    'display_url': 'youtube.com/c/YusakuMaezaw…',\n",
       "    'indices': [0, 23]}]},\n",
       " 'description': {'urls': [{'url': 'https://t.co/hePnvpRGDW',\n",
       "    'expanded_url': 'https://donation.yusakumaezawa.com/',\n",
       "    'display_url': 'donation.yusakumaezawa.com',\n",
       "    'indices': [45, 68]},\n",
       "   {'url': 'https://t.co/8WRxNUBMkj',\n",
       "    'expanded_url': 'https://www.instagram.com/yusaku2020/',\n",
       "    'display_url': 'instagram.com/yusaku2020/',\n",
       "    'indices': [81, 104]}]}}"
      ]
     },
     "execution_count": 52,
     "metadata": {},
     "output_type": "execute_result"
    }
   ],
   "source": [
    "user.entities"
   ]
  },
  {
   "cell_type": "code",
   "execution_count": 53,
   "metadata": {},
   "outputs": [
    {
     "data": {
      "text/plain": [
       "137857547"
      ]
     },
     "execution_count": 53,
     "metadata": {},
     "output_type": "execute_result"
    }
   ],
   "source": [
    "user.id"
   ]
  },
  {
   "cell_type": "code",
   "execution_count": 54,
   "metadata": {},
   "outputs": [
    {
     "data": {
      "text/plain": [
       "User(_api=<tweepy.api.API object at 0x7f899cd8bed0>, _json={'id': 1379430106830041094, 'id_str': '1379430106830041094', 'name': '石川恵子', 'screen_name': 'Oy2mjEeuUVqFPGr', 'location': '', 'description': '倍音ヒーラーkeikoです。', 'url': None, 'entities': {'description': {'urls': []}}, 'protected': False, 'followers_count': 0, 'friends_count': 2, 'listed_count': 0, 'created_at': 'Tue Apr 06 13:46:04 +0000 2021', 'favourites_count': 0, 'utc_offset': None, 'time_zone': None, 'geo_enabled': False, 'verified': False, 'statuses_count': 0, 'lang': None, 'contributors_enabled': False, 'is_translator': False, 'is_translation_enabled': False, 'profile_background_color': 'F5F8FA', 'profile_background_image_url': None, 'profile_background_image_url_https': None, 'profile_background_tile': False, 'profile_image_url': 'http://abs.twimg.com/sticky/default_profile_images/default_profile_normal.png', 'profile_image_url_https': 'https://abs.twimg.com/sticky/default_profile_images/default_profile_normal.png', 'profile_link_color': '1DA1F2', 'profile_sidebar_border_color': 'C0DEED', 'profile_sidebar_fill_color': 'DDEEF6', 'profile_text_color': '333333', 'profile_use_background_image': True, 'has_extended_profile': True, 'default_profile': True, 'default_profile_image': True, 'following': False, 'live_following': False, 'follow_request_sent': False, 'notifications': False, 'muting': False, 'blocking': False, 'blocked_by': False, 'translator_type': 'none'}, id=1379430106830041094, id_str='1379430106830041094', name='石川恵子', screen_name='Oy2mjEeuUVqFPGr', location='', description='倍音ヒーラーkeikoです。', url=None, entities={'description': {'urls': []}}, protected=False, followers_count=0, friends_count=2, listed_count=0, created_at=datetime.datetime(2021, 4, 6, 13, 46, 4), favourites_count=0, utc_offset=None, time_zone=None, geo_enabled=False, verified=False, statuses_count=0, lang=None, contributors_enabled=False, is_translator=False, is_translation_enabled=False, profile_background_color='F5F8FA', profile_background_image_url=None, profile_background_image_url_https=None, profile_background_tile=False, profile_image_url='http://abs.twimg.com/sticky/default_profile_images/default_profile_normal.png', profile_image_url_https='https://abs.twimg.com/sticky/default_profile_images/default_profile_normal.png', profile_link_color='1DA1F2', profile_sidebar_border_color='C0DEED', profile_sidebar_fill_color='DDEEF6', profile_text_color='333333', profile_use_background_image=True, has_extended_profile=True, default_profile=True, default_profile_image=True, following=False, live_following=False, follow_request_sent=False, notifications=False, muting=False, blocking=False, blocked_by=False, translator_type='none')"
      ]
     },
     "execution_count": 54,
     "metadata": {},
     "output_type": "execute_result"
    }
   ],
   "source": [
    "follower = user.followers()[0]\n",
    "follower"
   ]
  },
  {
   "cell_type": "code",
   "execution_count": 55,
   "metadata": {},
   "outputs": [
    {
     "data": {
      "text/plain": [
       "2"
      ]
     },
     "execution_count": 55,
     "metadata": {},
     "output_type": "execute_result"
    }
   ],
   "source": [
    "follower.friends_count"
   ]
  },
  {
   "cell_type": "code",
   "execution_count": null,
   "metadata": {},
   "outputs": [],
   "source": []
  }
 ],
 "metadata": {
  "kernelspec": {
   "display_name": "Python 3",
   "language": "python",
   "name": "python3"
  },
  "language_info": {
   "codemirror_mode": {
    "name": "ipython",
    "version": 3
   },
   "file_extension": ".py",
   "mimetype": "text/x-python",
   "name": "python",
   "nbconvert_exporter": "python",
   "pygments_lexer": "ipython3",
   "version": "3.7.6"
  }
 },
 "nbformat": 4,
 "nbformat_minor": 4
}
